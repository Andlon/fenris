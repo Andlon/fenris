{
 "cells": [
  {
   "cell_type": "code",
   "execution_count": null,
   "metadata": {},
   "outputs": [],
   "source": [
    "import numpy as np"
   ]
  },
  {
   "cell_type": "markdown",
   "metadata": {},
   "source": [
    "# Hyperelastic materials\n",
    "In this notebook we compute some test values for various materials that we use to validate the code in (unit) tests."
   ]
  },
  {
   "cell_type": "code",
   "execution_count": null,
   "metadata": {},
   "outputs": [],
   "source": [
    "# Some basic quantities that we'll use\n",
    "# Lame parameters\n",
    "mu = 384.0\n",
    "λ = 577.0\n",
    "# Deformation gradients for 2D and 3D\n",
    "F_2d = np.array([[2, 1], [3, 4]])\n",
    "F_3d = np.array([[2, 1, 3], [4, 6, 5], [2, 8, 9]])"
   ]
  },
  {
   "cell_type": "markdown",
   "metadata": {},
   "source": [
    "## Linear elastic material"
   ]
  },
  {
   "cell_type": "code",
   "execution_count": null,
   "metadata": {},
   "outputs": [],
   "source": [
    "# Infinitesimal strain tensor\n",
    "def infinitesimal_strain_tensor(F):\n",
    "    assert F.shape[0] == F.shape[1]\n",
    "    return (F + F.transpose()) / 2 - np.identity(F.shape[0])\n",
    "\n",
    "def psi_linear(F):\n",
    "    eps = infinitesimal_strain_tensor(F)\n",
    "    return mu * np.tensordot(eps, eps) + (λ / 2) * eps.trace() ** 2"
   ]
  },
  {
   "cell_type": "code",
   "execution_count": null,
   "metadata": {},
   "outputs": [],
   "source": [
    "psi_2d = psi_linear(F_2d)\n",
    "print(\"Psi 2D: \", psi_2d)"
   ]
  },
  {
   "cell_type": "code",
   "execution_count": null,
   "metadata": {},
   "outputs": [],
   "source": [
    "psi_3d = psi_linear(F_3d)\n",
    "print(\"Psi 3D: \", psi_3d)"
   ]
  },
  {
   "cell_type": "markdown",
   "metadata": {},
   "source": [
    "## Saint Venant-Kirchhoff"
   ]
  },
  {
   "cell_type": "code",
   "execution_count": null,
   "metadata": {},
   "outputs": [],
   "source": [
    "def green_strain_tensor(F):\n",
    "    assert F.shape[0] == F.shape[1]\n",
    "    return (np.matmul(F.transpose(), F) - np.identity(F.shape[0])) / 2\n",
    "\n",
    "def psi_stvk(F):\n",
    "    e = green_strain_tensor(F)\n",
    "    return mu * np.tensordot(e, e) + (λ / 2) * e.trace() ** 2"
   ]
  },
  {
   "cell_type": "code",
   "execution_count": null,
   "metadata": {},
   "outputs": [],
   "source": [
    "psi_2d = psi_stvk(F_2d)\n",
    "print(\"Psi 2D: \", psi_2d)"
   ]
  },
  {
   "cell_type": "code",
   "execution_count": null,
   "metadata": {},
   "outputs": [],
   "source": [
    "psi_3d = psi_stvk(F_3d)\n",
    "print(\"Psi 3D: \", psi_3d)"
   ]
  },
  {
   "cell_type": "code",
   "execution_count": null,
   "metadata": {},
   "outputs": [],
   "source": []
  }
 ],
 "metadata": {
  "kernelspec": {
   "display_name": "Python 3",
   "language": "python",
   "name": "python3"
  },
  "language_info": {
   "codemirror_mode": {
    "name": "ipython",
    "version": 3
   },
   "file_extension": ".py",
   "mimetype": "text/x-python",
   "name": "python",
   "nbconvert_exporter": "python",
   "pygments_lexer": "ipython3",
   "version": "3.8.3"
  }
 },
 "nbformat": 4,
 "nbformat_minor": 4
}
