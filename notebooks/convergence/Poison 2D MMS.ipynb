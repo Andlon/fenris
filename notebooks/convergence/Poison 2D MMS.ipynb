{
 "cells": [
  {
   "cell_type": "code",
   "execution_count": null,
   "metadata": {},
   "outputs": [],
   "source": [
    "import os\n",
    "import json\n",
    "import matplotlib.pyplot as plt\n",
    "import math"
   ]
  },
  {
   "cell_type": "code",
   "execution_count": null,
   "metadata": {},
   "outputs": [],
   "source": [
    "data_folder = \"../../data/convergence_tests/poisson_2d_mms\"\n",
    "\n",
    "def load_summary(path):\n",
    "    with open(data_folder + \"/\" + path) as file:\n",
    "        return json.load(file)\n",
    "\n",
    "summary_files = [file for file in os.listdir(data_folder) if file.endswith(\".json\")]\n",
    "summaries = [ load_summary(file) for file in summary_files ]"
   ]
  },
  {
   "cell_type": "code",
   "execution_count": null,
   "metadata": {},
   "outputs": [],
   "source": [
    "def summary_key(summary):\n",
    "    element = summary['element_name']\n",
    "    if element == \"Tri3\":\n",
    "        return 0\n",
    "    elif element == \"Quad4\":\n",
    "        return 1\n",
    "    elif element == \"Tri6\":\n",
    "        return 2\n",
    "    elif element == \"Quad9\":\n",
    "        return 3\n",
    "    else:\n",
    "        return 10\n",
    "\n",
    "# Sort summaries according to order in plot\n",
    "sorted_summaries = sorted(summaries, key = summary_key)"
   ]
  },
  {
   "cell_type": "code",
   "execution_count": null,
   "metadata": {},
   "outputs": [],
   "source": [
    "# Draw line depicting convergence rate p\n",
    "def draw_convergence_line(ax, *, p, x0, y0, label_xoffset):\n",
    "    # Choose an arbitrary value of x1 in order to determine some point y1\n",
    "    # which we can give as input to axline\n",
    "    x1 = 1\n",
    "    X0 = math.log10(x0)\n",
    "    Y0 = math.log10(y0)\n",
    "    X1 = math.log10(x1)\n",
    "    C = Y0 - p * X0\n",
    "    Y1 = C + p * X1\n",
    "    y1 = 10 ** Y1\n",
    "    ax.axline((x0, y0), (x1, y1), color = \"Gray\", linestyle=\"--\")\n",
    "    ax.annotate(\"$O(h^{})$\".format(p), (x0 + label_xoffset, y0))\n",
    "\n",
    "fig = plt.figure(figsize=(8, 6), dpi = 200)\n",
    "ax = fig.gca()\n",
    "\n",
    "for summary in sorted_summaries:\n",
    "    x = summary['resolutions']\n",
    "    y = summary['L2_errors']\n",
    "    ax.loglog(x, y, label = summary['element_name'], marker = 'o')\n",
    "\n",
    "ax.legend(loc = 'lower right')\n",
    "ax.set_xlabel(\"h\")\n",
    "ax.set_ylabel(\"$L^2$ error $|| u - u_h ||_{L^2}$\")\n",
    "ax.grid()\n",
    "draw_convergence_line(ax, p=3, x0=0.25, y0=1e-3, label_xoffset = 0.1)\n",
    "draw_convergence_line(ax, p=2, x0=0.25, y0=2e-1, label_xoffset = -0.1)\n",
    "\n",
    "plt.show(fig)"
   ]
  },
  {
   "cell_type": "code",
   "execution_count": null,
   "metadata": {},
   "outputs": [],
   "source": []
  }
 ],
 "metadata": {
  "kernelspec": {
   "display_name": "Python 3",
   "language": "python",
   "name": "python3"
  },
  "language_info": {
   "codemirror_mode": {
    "name": "ipython",
    "version": 3
   },
   "file_extension": ".py",
   "mimetype": "text/x-python",
   "name": "python",
   "nbconvert_exporter": "python",
   "pygments_lexer": "ipython3",
   "version": "3.8.3"
  }
 },
 "nbformat": 4,
 "nbformat_minor": 4
}
