{
 "cells": [
  {
   "cell_type": "code",
   "execution_count": null,
   "metadata": {},
   "outputs": [],
   "source": [
    "import os\n",
    "import json\n",
    "import matplotlib.pyplot as plt\n",
    "import math"
   ]
  },
  {
   "cell_type": "code",
   "execution_count": null,
   "metadata": {},
   "outputs": [],
   "source": [
    "data_folder = \"../../data/convergence_tests\"\n",
    "\n",
    "def load_summary(path):\n",
    "    with open(data_folder + \"/\" + path) as file:\n",
    "        return json.load(file)\n",
    "    \n",
    "def load_summaries(directory):\n",
    "    summary_files = [file for file in os.listdir(directory) if file.endswith(\".json\")]\n",
    "    summaries = [ load_summary(os.path.join(directory, filename)) for filename in summary_files ]\n",
    "    return summaries"
   ]
  },
  {
   "cell_type": "code",
   "execution_count": null,
   "metadata": {},
   "outputs": [],
   "source": [
    "# Draw line depicting convergence rate p\n",
    "def draw_convergence_line(ax, *, p, x0, y0, label_xoffset):\n",
    "    # Choose an arbitrary value of x1 in order to determine some point y1\n",
    "    # which we can give as input to axline\n",
    "    x1 = 1\n",
    "    X0 = math.log10(x0)\n",
    "    Y0 = math.log10(y0)\n",
    "    X1 = math.log10(x1)\n",
    "    C = Y0 - p * X0\n",
    "    Y1 = C + p * X1\n",
    "    y1 = 10 ** Y1\n",
    "    ax.axline((x0, y0), (x1, y1), color = \"Gray\", linestyle=\"--\")\n",
    "    ax.annotate(\"$O(h^{})$\".format(p), (x0 + label_xoffset, y0))\n",
    "    \n",
    "def prepare_convergence_plot(summaries):\n",
    "    fig = plt.figure(figsize=(8, 6), dpi = 200)\n",
    "    ax = fig.gca()\n",
    "\n",
    "    for summary in summaries:\n",
    "        x = summary['resolutions']\n",
    "        y = summary['L2_errors']\n",
    "        ax.loglog(x, y, label = summary['element_name'], marker = 'o')\n",
    "\n",
    "    ax.legend(loc = 'lower right')\n",
    "    ax.set_xlabel(\"h\")\n",
    "    ax.set_ylabel(\"$L^2$ error $|| u - u_h ||_{L^2}$\")\n",
    "    ax.grid()\n",
    "    \n",
    "    return fig"
   ]
  },
  {
   "cell_type": "markdown",
   "metadata": {},
   "source": [
    "# 2D convergence plots"
   ]
  },
  {
   "cell_type": "code",
   "execution_count": null,
   "metadata": {
    "scrolled": false
   },
   "outputs": [],
   "source": [
    "def summary_key_2d(summary):\n",
    "    element = summary['element_name']\n",
    "    if element == \"Tri3\":\n",
    "        return 0\n",
    "    elif element == \"Quad4\":\n",
    "        return 1\n",
    "    elif element == \"Tri6\":\n",
    "        return 2\n",
    "    elif element == \"Quad9\":\n",
    "        return 3\n",
    "    else:\n",
    "        return 10\n",
    "    \n",
    "data_folder_2d = os.path.join(data_folder, \"poisson_2d_mms\")\n",
    "# Sort summaries according to order in plot\n",
    "summaries_2d = sorted(load_summaries(data_folder_2d), key = summary_key_2d)\n",
    "\n",
    "fig = prepare_convergence_plot(summaries_2d)\n",
    "draw_convergence_line(fig.gca(), p=3, x0=0.25, y0=1e-3, label_xoffset = 0.1)\n",
    "draw_convergence_line(fig.gca(), p=2, x0=0.25, y0=2e-1, label_xoffset = -0.1)\n",
    "\n",
    "plt.show(fig)"
   ]
  },
  {
   "cell_type": "markdown",
   "metadata": {},
   "source": [
    "# 3D convergence plots"
   ]
  },
  {
   "cell_type": "code",
   "execution_count": null,
   "metadata": {},
   "outputs": [],
   "source": [
    "def summary_key_3d(summary):\n",
    "    element = summary['element_name']\n",
    "    if element == 'Hex8':\n",
    "        return 0\n",
    "    elif element == 'Hex20':\n",
    "        return 1\n",
    "    elif element == 'Hex27':\n",
    "        return 2\n",
    "    return 3\n",
    "    \n",
    "data_folder_3d = os.path.join(data_folder, \"poisson_3d_mms\")\n",
    "# Sort summaries according to order in plot\n",
    "summaries_3d = sorted(load_summaries(data_folder_3d), key = summary_key_3d)\n",
    "\n",
    "fig = prepare_convergence_plot(summaries_3d)\n",
    "draw_convergence_line(fig.gca(), p=3, x0=0.25, y0=1e-3, label_xoffset = 0.1)\n",
    "draw_convergence_line(fig.gca(), p=2, x0=0.25, y0=4e-2, label_xoffset = -0.1)\n",
    "\n",
    "plt.show(fig)"
   ]
  },
  {
   "cell_type": "code",
   "execution_count": null,
   "metadata": {},
   "outputs": [],
   "source": []
  }
 ],
 "metadata": {
  "kernelspec": {
   "display_name": "Python 3",
   "language": "python",
   "name": "python3"
  },
  "language_info": {
   "codemirror_mode": {
    "name": "ipython",
    "version": 3
   },
   "file_extension": ".py",
   "mimetype": "text/x-python",
   "name": "python",
   "nbconvert_exporter": "python",
   "pygments_lexer": "ipython3",
   "version": "3.8.3"
  }
 },
 "nbformat": 4,
 "nbformat_minor": 4
}
