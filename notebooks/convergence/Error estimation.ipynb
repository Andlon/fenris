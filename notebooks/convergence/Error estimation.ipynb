{
 "cells": [
  {
   "cell_type": "code",
   "execution_count": null,
   "metadata": {},
   "outputs": [],
   "source": [
    "import os\n",
    "import json\n",
    "import matplotlib.pyplot as plt\n",
    "import math\n",
    "%matplotlib notebook"
   ]
  },
  {
   "cell_type": "code",
   "execution_count": null,
   "metadata": {},
   "outputs": [],
   "source": [
    "data_folder = \"../../data/convergence_tests\"\n",
    "\n",
    "def load_summary(path):\n",
    "    with open(data_folder + \"/\" + path) as file:\n",
    "        return json.load(file)\n",
    "    \n",
    "def load_summaries(directory):\n",
    "    summary_files = [file for file in os.listdir(directory) if file.endswith(\".json\")]\n",
    "    summaries = [ load_summary(os.path.join(directory, filename)) for filename in summary_files ]\n",
    "    return summaries"
   ]
  },
  {
   "cell_type": "code",
   "execution_count": null,
   "metadata": {},
   "outputs": [],
   "source": [
    "# Draw line depicting convergence rate p\n",
    "def draw_convergence_line(ax, *, p, x0, y0, label_xoffset):\n",
    "    # Choose an arbitrary value of x1 in order to determine some point y1\n",
    "    # which we can give as input to axline\n",
    "    x1 = 1\n",
    "    X0 = math.log10(x0)\n",
    "    Y0 = math.log10(y0)\n",
    "    X1 = math.log10(x1)\n",
    "    C = Y0 - p * X0\n",
    "    Y1 = C + p * X1\n",
    "    y1 = 10 ** Y1\n",
    "    ax.axline((x0, y0), (x1, y1), color = \"Gray\", linestyle=\"--\")\n",
    "    ax.annotate(\"$O(h^{})$\".format(p), (x0 + label_xoffset, y0))\n",
    "    \n",
    "def error_field_from_type(error_type):\n",
    "    if error_type == 'L2':\n",
    "        return 'L2_error'\n",
    "    elif error_type == 'H1_seminorm':\n",
    "        return 'H1_semi_error'\n",
    "    else:\n",
    "        raise \"Unknown error type\"\n",
    "        \n",
    "def label_for_error_type(error_type):\n",
    "    if error_type == 'L2':\n",
    "        return '$L^2$ error $|| u - u_h ||_{L^2}$'\n",
    "    elif error_type == 'H1_seminorm':\n",
    "        return '$H^1$ seminorm error $| u - u_h |_{H^1}$'\n",
    "    else:\n",
    "        raise \"Unknown error type\"\n",
    "        \n",
    "def title_for_error_type(error_type):\n",
    "    if error_type == 'L2':\n",
    "        return '$L^2$ error'\n",
    "    elif error_type == 'H1_seminorm':\n",
    "        return '$H^1$ seminorm error'\n",
    "    else:\n",
    "        raise \"Unknown error type\"\n",
    "        \n",
    "def label_for_fine_res(fine_res):\n",
    "    if fine_res == 0:\n",
    "        return \"Analytic\"\n",
    "    else:\n",
    "        return \"Fine res = {}\".format(fine_res)\n",
    "    \n",
    "def prepare_plots(summaries, error_type = 'L2'):\n",
    "    figs = []\n",
    "\n",
    "    for summary in summaries:\n",
    "        fig = plt.figure(figsize=(8, 6), dpi = 128)\n",
    "        ax = fig.gca()\n",
    "        \n",
    "        # Map fine resolutions to samples belonging to this resolution\n",
    "        fine_to_samples = dict()\n",
    "        \n",
    "        for sample in summary['samples']:\n",
    "            fine_res = int(sample['fine_res'])\n",
    "            fine_to_samples.setdefault(fine_res,[]).append(sample)\n",
    "            \n",
    "        for fine_res, samples in fine_to_samples.items():\n",
    "            x = [sample['coarse_res'] for sample in samples]\n",
    "            y = [sample[error_field_from_type(error_type)] for sample in samples]\n",
    "            ax.semilogy(x, y, label = label_for_fine_res(fine_res), marker = 'o')\n",
    "\n",
    "        ax.legend(loc = 'upper right')\n",
    "        ax.set_xlabel(\"Coarse resolution\")\n",
    "        ax.set_ylabel(label_for_error_type(error_type))\n",
    "        ax.set_title(title_for_error_type(error_type) + \" for \" + summary['element_name'])\n",
    "        ax.grid(visible=True, which='both')\n",
    "        \n",
    "        figs.append(fig)\n",
    "\n",
    "    return figs"
   ]
  },
  {
   "cell_type": "code",
   "execution_count": null,
   "metadata": {
    "scrolled": false
   },
   "outputs": [],
   "source": [
    "summaries = load_summaries(data_folder + \"/error_estimation\")\n",
    "figs = prepare_plots(summaries, error_type='L2')\n",
    "figs = prepare_plots(summaries, error_type='H1_seminorm')"
   ]
  }
 ],
 "metadata": {
  "kernelspec": {
   "display_name": "Python 3",
   "language": "python",
   "name": "python3"
  },
  "language_info": {
   "codemirror_mode": {
    "name": "ipython",
    "version": 3
   },
   "file_extension": ".py",
   "mimetype": "text/x-python",
   "name": "python",
   "nbconvert_exporter": "python",
   "pygments_lexer": "ipython3",
   "version": "3.9.5"
  }
 },
 "nbformat": 4,
 "nbformat_minor": 4
}
